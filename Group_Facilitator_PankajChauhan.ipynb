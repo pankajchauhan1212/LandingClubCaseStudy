{
 "cells": [
  {
   "cell_type": "code",
   "execution_count": 2,
   "id": "8e568d21",
   "metadata": {},
   "outputs": [],
   "source": [
    "#Import the library used\n",
    "import pandas as pd\n",
    "import numpy as np"
   ]
  },
  {
   "cell_type": "code",
   "execution_count": 3,
   "id": "dbf3695d",
   "metadata": {},
   "outputs": [
    {
     "name": "stderr",
     "output_type": "stream",
     "text": [
      "C:\\Users\\Pankaj\\AppData\\Local\\Temp\\ipykernel_16940\\3617640580.py:2: DtypeWarning: Columns (47) have mixed types. Specify dtype option on import or set low_memory=False.\n",
      "  Loan = pd.read_csv(\"loan.csv\")\n"
     ]
    },
    {
     "data": {
      "text/html": [
       "<div>\n",
       "<style scoped>\n",
       "    .dataframe tbody tr th:only-of-type {\n",
       "        vertical-align: middle;\n",
       "    }\n",
       "\n",
       "    .dataframe tbody tr th {\n",
       "        vertical-align: top;\n",
       "    }\n",
       "\n",
       "    .dataframe thead th {\n",
       "        text-align: right;\n",
       "    }\n",
       "</style>\n",
       "<table border=\"1\" class=\"dataframe\">\n",
       "  <thead>\n",
       "    <tr style=\"text-align: right;\">\n",
       "      <th></th>\n",
       "      <th>id</th>\n",
       "      <th>member_id</th>\n",
       "      <th>loan_amnt</th>\n",
       "      <th>funded_amnt</th>\n",
       "      <th>funded_amnt_inv</th>\n",
       "      <th>term</th>\n",
       "      <th>int_rate</th>\n",
       "      <th>installment</th>\n",
       "      <th>grade</th>\n",
       "      <th>sub_grade</th>\n",
       "      <th>...</th>\n",
       "      <th>num_tl_90g_dpd_24m</th>\n",
       "      <th>num_tl_op_past_12m</th>\n",
       "      <th>pct_tl_nvr_dlq</th>\n",
       "      <th>percent_bc_gt_75</th>\n",
       "      <th>pub_rec_bankruptcies</th>\n",
       "      <th>tax_liens</th>\n",
       "      <th>tot_hi_cred_lim</th>\n",
       "      <th>total_bal_ex_mort</th>\n",
       "      <th>total_bc_limit</th>\n",
       "      <th>total_il_high_credit_limit</th>\n",
       "    </tr>\n",
       "  </thead>\n",
       "  <tbody>\n",
       "    <tr>\n",
       "      <th>0</th>\n",
       "      <td>1077501</td>\n",
       "      <td>1296599</td>\n",
       "      <td>5000</td>\n",
       "      <td>5000</td>\n",
       "      <td>4975.0</td>\n",
       "      <td>36 months</td>\n",
       "      <td>10.65%</td>\n",
       "      <td>162.87</td>\n",
       "      <td>B</td>\n",
       "      <td>B2</td>\n",
       "      <td>...</td>\n",
       "      <td>NaN</td>\n",
       "      <td>NaN</td>\n",
       "      <td>NaN</td>\n",
       "      <td>NaN</td>\n",
       "      <td>0.0</td>\n",
       "      <td>0.0</td>\n",
       "      <td>NaN</td>\n",
       "      <td>NaN</td>\n",
       "      <td>NaN</td>\n",
       "      <td>NaN</td>\n",
       "    </tr>\n",
       "    <tr>\n",
       "      <th>1</th>\n",
       "      <td>1077430</td>\n",
       "      <td>1314167</td>\n",
       "      <td>2500</td>\n",
       "      <td>2500</td>\n",
       "      <td>2500.0</td>\n",
       "      <td>60 months</td>\n",
       "      <td>15.27%</td>\n",
       "      <td>59.83</td>\n",
       "      <td>C</td>\n",
       "      <td>C4</td>\n",
       "      <td>...</td>\n",
       "      <td>NaN</td>\n",
       "      <td>NaN</td>\n",
       "      <td>NaN</td>\n",
       "      <td>NaN</td>\n",
       "      <td>0.0</td>\n",
       "      <td>0.0</td>\n",
       "      <td>NaN</td>\n",
       "      <td>NaN</td>\n",
       "      <td>NaN</td>\n",
       "      <td>NaN</td>\n",
       "    </tr>\n",
       "    <tr>\n",
       "      <th>2</th>\n",
       "      <td>1077175</td>\n",
       "      <td>1313524</td>\n",
       "      <td>2400</td>\n",
       "      <td>2400</td>\n",
       "      <td>2400.0</td>\n",
       "      <td>36 months</td>\n",
       "      <td>15.96%</td>\n",
       "      <td>84.33</td>\n",
       "      <td>C</td>\n",
       "      <td>C5</td>\n",
       "      <td>...</td>\n",
       "      <td>NaN</td>\n",
       "      <td>NaN</td>\n",
       "      <td>NaN</td>\n",
       "      <td>NaN</td>\n",
       "      <td>0.0</td>\n",
       "      <td>0.0</td>\n",
       "      <td>NaN</td>\n",
       "      <td>NaN</td>\n",
       "      <td>NaN</td>\n",
       "      <td>NaN</td>\n",
       "    </tr>\n",
       "    <tr>\n",
       "      <th>3</th>\n",
       "      <td>1076863</td>\n",
       "      <td>1277178</td>\n",
       "      <td>10000</td>\n",
       "      <td>10000</td>\n",
       "      <td>10000.0</td>\n",
       "      <td>36 months</td>\n",
       "      <td>13.49%</td>\n",
       "      <td>339.31</td>\n",
       "      <td>C</td>\n",
       "      <td>C1</td>\n",
       "      <td>...</td>\n",
       "      <td>NaN</td>\n",
       "      <td>NaN</td>\n",
       "      <td>NaN</td>\n",
       "      <td>NaN</td>\n",
       "      <td>0.0</td>\n",
       "      <td>0.0</td>\n",
       "      <td>NaN</td>\n",
       "      <td>NaN</td>\n",
       "      <td>NaN</td>\n",
       "      <td>NaN</td>\n",
       "    </tr>\n",
       "    <tr>\n",
       "      <th>4</th>\n",
       "      <td>1075358</td>\n",
       "      <td>1311748</td>\n",
       "      <td>3000</td>\n",
       "      <td>3000</td>\n",
       "      <td>3000.0</td>\n",
       "      <td>60 months</td>\n",
       "      <td>12.69%</td>\n",
       "      <td>67.79</td>\n",
       "      <td>B</td>\n",
       "      <td>B5</td>\n",
       "      <td>...</td>\n",
       "      <td>NaN</td>\n",
       "      <td>NaN</td>\n",
       "      <td>NaN</td>\n",
       "      <td>NaN</td>\n",
       "      <td>0.0</td>\n",
       "      <td>0.0</td>\n",
       "      <td>NaN</td>\n",
       "      <td>NaN</td>\n",
       "      <td>NaN</td>\n",
       "      <td>NaN</td>\n",
       "    </tr>\n",
       "  </tbody>\n",
       "</table>\n",
       "<p>5 rows × 111 columns</p>\n",
       "</div>"
      ],
      "text/plain": [
       "        id  member_id  loan_amnt  funded_amnt  funded_amnt_inv        term  \\\n",
       "0  1077501    1296599       5000         5000           4975.0   36 months   \n",
       "1  1077430    1314167       2500         2500           2500.0   60 months   \n",
       "2  1077175    1313524       2400         2400           2400.0   36 months   \n",
       "3  1076863    1277178      10000        10000          10000.0   36 months   \n",
       "4  1075358    1311748       3000         3000           3000.0   60 months   \n",
       "\n",
       "  int_rate  installment grade sub_grade  ... num_tl_90g_dpd_24m  \\\n",
       "0   10.65%       162.87     B        B2  ...                NaN   \n",
       "1   15.27%        59.83     C        C4  ...                NaN   \n",
       "2   15.96%        84.33     C        C5  ...                NaN   \n",
       "3   13.49%       339.31     C        C1  ...                NaN   \n",
       "4   12.69%        67.79     B        B5  ...                NaN   \n",
       "\n",
       "  num_tl_op_past_12m pct_tl_nvr_dlq  percent_bc_gt_75 pub_rec_bankruptcies  \\\n",
       "0                NaN            NaN               NaN                  0.0   \n",
       "1                NaN            NaN               NaN                  0.0   \n",
       "2                NaN            NaN               NaN                  0.0   \n",
       "3                NaN            NaN               NaN                  0.0   \n",
       "4                NaN            NaN               NaN                  0.0   \n",
       "\n",
       "  tax_liens tot_hi_cred_lim total_bal_ex_mort total_bc_limit  \\\n",
       "0       0.0             NaN               NaN            NaN   \n",
       "1       0.0             NaN               NaN            NaN   \n",
       "2       0.0             NaN               NaN            NaN   \n",
       "3       0.0             NaN               NaN            NaN   \n",
       "4       0.0             NaN               NaN            NaN   \n",
       "\n",
       "  total_il_high_credit_limit  \n",
       "0                        NaN  \n",
       "1                        NaN  \n",
       "2                        NaN  \n",
       "3                        NaN  \n",
       "4                        NaN  \n",
       "\n",
       "[5 rows x 111 columns]"
      ]
     },
     "execution_count": 3,
     "metadata": {},
     "output_type": "execute_result"
    }
   ],
   "source": [
    "#Read the loan.csv file as dataframe\n",
    "Loan = pd.read_csv(\"loan.csv\")\n",
    "Loan.head()"
   ]
  },
  {
   "cell_type": "markdown",
   "id": "0ebdebae",
   "metadata": {},
   "source": [
    "# Data Understanding\n",
    "\n"
   ]
  },
  {
   "cell_type": "code",
   "execution_count": 4,
   "id": "d3298b8c",
   "metadata": {},
   "outputs": [
    {
     "data": {
      "text/plain": [
       "(39717, 111)"
      ]
     },
     "execution_count": 4,
     "metadata": {},
     "output_type": "execute_result"
    }
   ],
   "source": [
    "#figure out the no. of rows and columns\n",
    "Loan.shape"
   ]
  },
  {
   "cell_type": "code",
   "execution_count": 5,
   "id": "f9094b35",
   "metadata": {},
   "outputs": [],
   "source": [
    "#As we can see that the data set is very huge, we need to figure out what data is not relevent and remove it in our cleaning section\n",
    "#To do so 1st we need to identify max(more than 75%) percentage of null value columns\n",
    "nullPercentage = round(Loan.isnull().mean()*100,2) "
   ]
  },
  {
   "cell_type": "code",
   "execution_count": 6,
   "id": "ee426b8f",
   "metadata": {},
   "outputs": [
    {
     "data": {
      "text/plain": [
       "id                         0.00\n",
       "member_id                  0.00\n",
       "loan_amnt                  0.00\n",
       "funded_amnt                0.00\n",
       "funded_amnt_inv            0.00\n",
       "term                       0.00\n",
       "int_rate                   0.00\n",
       "installment                0.00\n",
       "grade                      0.00\n",
       "sub_grade                  0.00\n",
       "emp_title                  6.19\n",
       "emp_length                 2.71\n",
       "home_ownership             0.00\n",
       "annual_inc                 0.00\n",
       "verification_status        0.00\n",
       "issue_d                    0.00\n",
       "loan_status                0.00\n",
       "pymnt_plan                 0.00\n",
       "url                        0.00\n",
       "desc                      32.58\n",
       "purpose                    0.00\n",
       "title                      0.03\n",
       "zip_code                   0.00\n",
       "addr_state                 0.00\n",
       "dti                        0.00\n",
       "delinq_2yrs                0.00\n",
       "earliest_cr_line           0.00\n",
       "inq_last_6mths             0.00\n",
       "mths_since_last_delinq    64.66\n",
       "mths_since_last_record    92.99\n",
       "dtype: float64"
      ]
     },
     "execution_count": 6,
     "metadata": {},
     "output_type": "execute_result"
    }
   ],
   "source": [
    "nullPercentage.head(30)"
   ]
  },
  {
   "cell_type": "code",
   "execution_count": 7,
   "id": "d5502640",
   "metadata": {},
   "outputs": [
    {
     "data": {
      "text/plain": [
       "mo_sin_old_rev_tl_op              100.00\n",
       "mo_sin_rcnt_rev_tl_op             100.00\n",
       "mo_sin_rcnt_tl                    100.00\n",
       "mort_acc                          100.00\n",
       "mths_since_recent_bc              100.00\n",
       "mths_since_recent_bc_dlq          100.00\n",
       "mths_since_recent_inq             100.00\n",
       "mths_since_recent_revol_delinq    100.00\n",
       "num_accts_ever_120_pd             100.00\n",
       "num_actv_bc_tl                    100.00\n",
       "num_actv_rev_tl                   100.00\n",
       "num_bc_sats                       100.00\n",
       "num_bc_tl                         100.00\n",
       "num_il_tl                         100.00\n",
       "num_op_rev_tl                     100.00\n",
       "num_rev_accts                     100.00\n",
       "num_rev_tl_bal_gt_0               100.00\n",
       "num_sats                          100.00\n",
       "num_tl_120dpd_2m                  100.00\n",
       "num_tl_30dpd                      100.00\n",
       "num_tl_90g_dpd_24m                100.00\n",
       "num_tl_op_past_12m                100.00\n",
       "pct_tl_nvr_dlq                    100.00\n",
       "percent_bc_gt_75                  100.00\n",
       "pub_rec_bankruptcies                1.75\n",
       "tax_liens                           0.10\n",
       "tot_hi_cred_lim                   100.00\n",
       "total_bal_ex_mort                 100.00\n",
       "total_bc_limit                    100.00\n",
       "total_il_high_credit_limit        100.00\n",
       "dtype: float64"
      ]
     },
     "execution_count": 7,
     "metadata": {},
     "output_type": "execute_result"
    }
   ],
   "source": [
    "nullPercentage.tail(30)"
   ]
  },
  {
   "cell_type": "markdown",
   "id": "bc3fd68d",
   "metadata": {},
   "source": [
    ">Need to remove customer Behaviour variables also, as these are irrelevant for prediction of credit approval. example: open_acc, pub_rec, revol_bal, revol_until, total_acc etc "
   ]
  },
  {
   "cell_type": "markdown",
   "id": "361c6e08",
   "metadata": {},
   "source": [
    "# Data Cleaning"
   ]
  },
  {
   "cell_type": "code",
   "execution_count": 8,
   "id": "8d5f28e4",
   "metadata": {},
   "outputs": [],
   "source": [
    "#Drop the columns with more then 75% null values \n",
    "\n",
    "percentage = 75.0\n",
    "threshold =  int(((100-percentage)/100)*Loan.shape[0] + 1)\n",
    "New_Loan_df = Loan.dropna(axis=1, thresh=threshold)"
   ]
  },
  {
   "cell_type": "code",
   "execution_count": 9,
   "id": "f7e95c90",
   "metadata": {},
   "outputs": [
    {
     "name": "stdout",
     "output_type": "stream",
     "text": [
      "<class 'pandas.core.frame.DataFrame'>\n",
      "RangeIndex: 39717 entries, 0 to 39716\n",
      "Data columns (total 55 columns):\n",
      " #   Column                      Non-Null Count  Dtype  \n",
      "---  ------                      --------------  -----  \n",
      " 0   id                          39717 non-null  int64  \n",
      " 1   member_id                   39717 non-null  int64  \n",
      " 2   loan_amnt                   39717 non-null  int64  \n",
      " 3   funded_amnt                 39717 non-null  int64  \n",
      " 4   funded_amnt_inv             39717 non-null  float64\n",
      " 5   term                        39717 non-null  object \n",
      " 6   int_rate                    39717 non-null  object \n",
      " 7   installment                 39717 non-null  float64\n",
      " 8   grade                       39717 non-null  object \n",
      " 9   sub_grade                   39717 non-null  object \n",
      " 10  emp_title                   37258 non-null  object \n",
      " 11  emp_length                  38642 non-null  object \n",
      " 12  home_ownership              39717 non-null  object \n",
      " 13  annual_inc                  39717 non-null  float64\n",
      " 14  verification_status         39717 non-null  object \n",
      " 15  issue_d                     39717 non-null  object \n",
      " 16  loan_status                 39717 non-null  object \n",
      " 17  pymnt_plan                  39717 non-null  object \n",
      " 18  url                         39717 non-null  object \n",
      " 19  desc                        26777 non-null  object \n",
      " 20  purpose                     39717 non-null  object \n",
      " 21  title                       39706 non-null  object \n",
      " 22  zip_code                    39717 non-null  object \n",
      " 23  addr_state                  39717 non-null  object \n",
      " 24  dti                         39717 non-null  float64\n",
      " 25  delinq_2yrs                 39717 non-null  int64  \n",
      " 26  earliest_cr_line            39717 non-null  object \n",
      " 27  inq_last_6mths              39717 non-null  int64  \n",
      " 28  mths_since_last_delinq      14035 non-null  float64\n",
      " 29  open_acc                    39717 non-null  int64  \n",
      " 30  pub_rec                     39717 non-null  int64  \n",
      " 31  revol_bal                   39717 non-null  int64  \n",
      " 32  revol_util                  39667 non-null  object \n",
      " 33  total_acc                   39717 non-null  int64  \n",
      " 34  initial_list_status         39717 non-null  object \n",
      " 35  out_prncp                   39717 non-null  float64\n",
      " 36  out_prncp_inv               39717 non-null  float64\n",
      " 37  total_pymnt                 39717 non-null  float64\n",
      " 38  total_pymnt_inv             39717 non-null  float64\n",
      " 39  total_rec_prncp             39717 non-null  float64\n",
      " 40  total_rec_int               39717 non-null  float64\n",
      " 41  total_rec_late_fee          39717 non-null  float64\n",
      " 42  recoveries                  39717 non-null  float64\n",
      " 43  collection_recovery_fee     39717 non-null  float64\n",
      " 44  last_pymnt_d                39646 non-null  object \n",
      " 45  last_pymnt_amnt             39717 non-null  float64\n",
      " 46  last_credit_pull_d          39715 non-null  object \n",
      " 47  collections_12_mths_ex_med  39661 non-null  float64\n",
      " 48  policy_code                 39717 non-null  int64  \n",
      " 49  application_type            39717 non-null  object \n",
      " 50  acc_now_delinq              39717 non-null  int64  \n",
      " 51  chargeoff_within_12_mths    39661 non-null  float64\n",
      " 52  delinq_amnt                 39717 non-null  int64  \n",
      " 53  pub_rec_bankruptcies        39020 non-null  float64\n",
      " 54  tax_liens                   39678 non-null  float64\n",
      "dtypes: float64(19), int64(13), object(23)\n",
      "memory usage: 16.7+ MB\n"
     ]
    }
   ],
   "source": [
    "#Look for the info after deleting the columns\n",
    "New_Loan_df.info()"
   ]
  },
  {
   "cell_type": "code",
   "execution_count": 10,
   "id": "b875793b",
   "metadata": {},
   "outputs": [
    {
     "data": {
      "text/plain": [
       "0.0      443\n",
       "15.0     252\n",
       "30.0     247\n",
       "23.0     247\n",
       "24.0     241\n",
       "        ... \n",
       "89.0       1\n",
       "107.0      1\n",
       "85.0       1\n",
       "97.0       1\n",
       "95.0       1\n",
       "Name: mths_since_last_delinq, Length: 95, dtype: int64"
      ]
     },
     "execution_count": 10,
     "metadata": {},
     "output_type": "execute_result"
    }
   ],
   "source": [
    "# We can see in the above info that there are 2 columns(mths_since_last_delinq and desc) which have more null values\n",
    "#Now we will analize those two columns and take a decision that delete them or not after analysing \n",
    "New_Loan_df[\"mths_since_last_delinq\"].value_counts()"
   ]
  },
  {
   "cell_type": "code",
   "execution_count": 11,
   "id": "75397177",
   "metadata": {},
   "outputs": [
    {
     "data": {
      "text/plain": [
       "                                                                                                                                                                                                                                                                                                                                                                                                                                                                                                                                                                                                                                                                              210\n",
       "Debt Consolidation                                                                                                                                                                                                                                                                                                                                                                                                                                                                                                                                                                                                                                                              8\n",
       "Camping Membership                                                                                                                                                                                                                                                                                                                                                                                                                                                                                                                                                                                                                                                              6\n",
       "personal loan                                                                                                                                                                                                                                                                                                                                                                                                                                                                                                                                                                                                                                                                   3\n",
       "credit card consolidation                                                                                                                                                                                                                                                                                                                                                                                                                                                                                                                                                                                                                                                       3\n",
       "                                                                                                                                                                                                                                                                                                                                                                                                                                                                                                                                                                                                                                                                             ... \n",
       "  Borrower added on 05/13/11 > I have a very stable income and have &quot;NEVER&quot; been delinquent on any accounts. I am interested in consolidating my credit card accounts along with a personal loan for the benefit of paying one payment a month versus multiple. Thank you.<br/>                                                                                                                                                                                                                                                                                                                                                                                       1\n",
       "  Borrower added on 05/13/11 > This loan is to partially finance a car. The payments will be very manageable for me.<br/>                                                                                                                                                                                                                                                                                                                                                                                                                                                                                                                                                       1\n",
       "  Borrower added on 05/13/11 > I am consolidating my bills to make it cheaper on bills. I am up for a promotion at my job and have been here three years already. I also have a fiance that has a very reliable job who also helps with finances. My requirement is that all bills are paid on time if not early. This is to keep good standings with all businesses and keep a awesome credit score.<br/> Borrower added on 05/16/11 > I am asking for this loan to pay off bills with higher interest rates and have a lower payment every month.<br/>                                                                                                                        1\n",
       "  Borrower added on 05/13/11 > Debt Consolidation<br/> Borrower added on 05/13/11 > I plan to use this money to consolidate bills with high monthly payments and improve cash flow.<br/> Borrower added on 05/13/11 > I have good credit and I have a very stable, solid and professional job that I have held for a long time - over 20 years.  I have a Bachelor's degree and I'm currently working on a masters.<br/> Borrower added on 05/13/11 > My mortgage and utilities run approx less than 2k per month including taxes.  I have sufficient income to pay off this loan. I simply want to take my open accounts and consolidate them into one easy payment.<br/>      1\n",
       "I plan to consolidate over $7,000 of debt: a combination of credit cards and student loans.                                                                                                                                                                                                                                                                                                                                                                                                                                                                                                                                                                                     1\n",
       "Name: desc, Length: 26527, dtype: int64"
      ]
     },
     "execution_count": 11,
     "metadata": {},
     "output_type": "execute_result"
    }
   ],
   "source": [
    "New_Loan_df[\"desc\"].value_counts()"
   ]
  },
  {
   "cell_type": "code",
   "execution_count": 12,
   "id": "ccfdf86e",
   "metadata": {},
   "outputs": [],
   "source": [
    "# The disc column is Loan description provided by the borrower, which is irrelivent to our requirement. We can drop this column\n",
    "New_Loan_df = New_Loan_df.drop(['desc'], axis=1)"
   ]
  },
  {
   "cell_type": "code",
   "execution_count": 13,
   "id": "a7177c05",
   "metadata": {},
   "outputs": [
    {
     "name": "stdout",
     "output_type": "stream",
     "text": [
      "<class 'pandas.core.frame.DataFrame'>\n",
      "RangeIndex: 39717 entries, 0 to 39716\n",
      "Data columns (total 54 columns):\n",
      " #   Column                      Non-Null Count  Dtype  \n",
      "---  ------                      --------------  -----  \n",
      " 0   id                          39717 non-null  int64  \n",
      " 1   member_id                   39717 non-null  int64  \n",
      " 2   loan_amnt                   39717 non-null  int64  \n",
      " 3   funded_amnt                 39717 non-null  int64  \n",
      " 4   funded_amnt_inv             39717 non-null  float64\n",
      " 5   term                        39717 non-null  object \n",
      " 6   int_rate                    39717 non-null  object \n",
      " 7   installment                 39717 non-null  float64\n",
      " 8   grade                       39717 non-null  object \n",
      " 9   sub_grade                   39717 non-null  object \n",
      " 10  emp_title                   37258 non-null  object \n",
      " 11  emp_length                  38642 non-null  object \n",
      " 12  home_ownership              39717 non-null  object \n",
      " 13  annual_inc                  39717 non-null  float64\n",
      " 14  verification_status         39717 non-null  object \n",
      " 15  issue_d                     39717 non-null  object \n",
      " 16  loan_status                 39717 non-null  object \n",
      " 17  pymnt_plan                  39717 non-null  object \n",
      " 18  url                         39717 non-null  object \n",
      " 19  purpose                     39717 non-null  object \n",
      " 20  title                       39706 non-null  object \n",
      " 21  zip_code                    39717 non-null  object \n",
      " 22  addr_state                  39717 non-null  object \n",
      " 23  dti                         39717 non-null  float64\n",
      " 24  delinq_2yrs                 39717 non-null  int64  \n",
      " 25  earliest_cr_line            39717 non-null  object \n",
      " 26  inq_last_6mths              39717 non-null  int64  \n",
      " 27  mths_since_last_delinq      14035 non-null  float64\n",
      " 28  open_acc                    39717 non-null  int64  \n",
      " 29  pub_rec                     39717 non-null  int64  \n",
      " 30  revol_bal                   39717 non-null  int64  \n",
      " 31  revol_util                  39667 non-null  object \n",
      " 32  total_acc                   39717 non-null  int64  \n",
      " 33  initial_list_status         39717 non-null  object \n",
      " 34  out_prncp                   39717 non-null  float64\n",
      " 35  out_prncp_inv               39717 non-null  float64\n",
      " 36  total_pymnt                 39717 non-null  float64\n",
      " 37  total_pymnt_inv             39717 non-null  float64\n",
      " 38  total_rec_prncp             39717 non-null  float64\n",
      " 39  total_rec_int               39717 non-null  float64\n",
      " 40  total_rec_late_fee          39717 non-null  float64\n",
      " 41  recoveries                  39717 non-null  float64\n",
      " 42  collection_recovery_fee     39717 non-null  float64\n",
      " 43  last_pymnt_d                39646 non-null  object \n",
      " 44  last_pymnt_amnt             39717 non-null  float64\n",
      " 45  last_credit_pull_d          39715 non-null  object \n",
      " 46  collections_12_mths_ex_med  39661 non-null  float64\n",
      " 47  policy_code                 39717 non-null  int64  \n",
      " 48  application_type            39717 non-null  object \n",
      " 49  acc_now_delinq              39717 non-null  int64  \n",
      " 50  chargeoff_within_12_mths    39661 non-null  float64\n",
      " 51  delinq_amnt                 39717 non-null  int64  \n",
      " 52  pub_rec_bankruptcies        39020 non-null  float64\n",
      " 53  tax_liens                   39678 non-null  float64\n",
      "dtypes: float64(19), int64(13), object(22)\n",
      "memory usage: 16.4+ MB\n"
     ]
    }
   ],
   "source": [
    "New_Loan_df.info()"
   ]
  },
  {
   "cell_type": "code",
   "execution_count": 14,
   "id": "f9818dd1",
   "metadata": {},
   "outputs": [],
   "source": [
    "#Still by looking into the column name and discription in the Data Dictionary we can figure out more irrelevent columns\n",
    "#example : addr_state, emp_title, zip_code, addr_state, delinq_2yrs, earliest_cr_line, inq_last_6mths, open_acc, pub_rec, revol_bal, revol_bal, total_acc, out_prncp, out_prncp_inv, total_pymnt, total_pymnt_inv, total_rec_prncp, total_rec_int, total_rec_late_fee, recoveries, collection_recovery_fee, last_pymnt_d, last_pymnt_amnt, last_credit_pull_d, application_type\n",
    "#All the columns given above are customer behavior variables are not available at the time of loan application and hence can't be used as a predictor for credit approval\n",
    "New_Loan_df.drop(['addr_state', 'emp_title', 'zip_code', 'addr_state', 'delinq_2yrs', 'earliest_cr_line', 'inq_last_6mths', 'open_acc', 'pub_rec', 'revol_bal', 'revol_bal', 'total_acc', 'out_prncp', 'out_prncp_inv', 'total_pymnt', 'total_pymnt_inv', 'total_rec_prncp', 'total_rec_int', 'total_rec_late_fee', 'recoveries', 'collection_recovery_fee', 'last_pymnt_d', 'last_pymnt_amnt', 'last_credit_pull_d', 'application_type'],axis=1,inplace=True)"
   ]
  },
  {
   "cell_type": "code",
   "execution_count": 15,
   "id": "c36a1ee2",
   "metadata": {},
   "outputs": [
    {
     "name": "stdout",
     "output_type": "stream",
     "text": [
      "<class 'pandas.core.frame.DataFrame'>\n",
      "RangeIndex: 39717 entries, 0 to 39716\n",
      "Data columns (total 31 columns):\n",
      " #   Column                      Non-Null Count  Dtype  \n",
      "---  ------                      --------------  -----  \n",
      " 0   id                          39717 non-null  int64  \n",
      " 1   member_id                   39717 non-null  int64  \n",
      " 2   loan_amnt                   39717 non-null  int64  \n",
      " 3   funded_amnt                 39717 non-null  int64  \n",
      " 4   funded_amnt_inv             39717 non-null  float64\n",
      " 5   term                        39717 non-null  object \n",
      " 6   int_rate                    39717 non-null  object \n",
      " 7   installment                 39717 non-null  float64\n",
      " 8   grade                       39717 non-null  object \n",
      " 9   sub_grade                   39717 non-null  object \n",
      " 10  emp_length                  38642 non-null  object \n",
      " 11  home_ownership              39717 non-null  object \n",
      " 12  annual_inc                  39717 non-null  float64\n",
      " 13  verification_status         39717 non-null  object \n",
      " 14  issue_d                     39717 non-null  object \n",
      " 15  loan_status                 39717 non-null  object \n",
      " 16  pymnt_plan                  39717 non-null  object \n",
      " 17  url                         39717 non-null  object \n",
      " 18  purpose                     39717 non-null  object \n",
      " 19  title                       39706 non-null  object \n",
      " 20  dti                         39717 non-null  float64\n",
      " 21  mths_since_last_delinq      14035 non-null  float64\n",
      " 22  revol_util                  39667 non-null  object \n",
      " 23  initial_list_status         39717 non-null  object \n",
      " 24  collections_12_mths_ex_med  39661 non-null  float64\n",
      " 25  policy_code                 39717 non-null  int64  \n",
      " 26  acc_now_delinq              39717 non-null  int64  \n",
      " 27  chargeoff_within_12_mths    39661 non-null  float64\n",
      " 28  delinq_amnt                 39717 non-null  int64  \n",
      " 29  pub_rec_bankruptcies        39020 non-null  float64\n",
      " 30  tax_liens                   39678 non-null  float64\n",
      "dtypes: float64(9), int64(7), object(15)\n",
      "memory usage: 9.4+ MB\n"
     ]
    }
   ],
   "source": [
    "New_Loan_df.info()"
   ]
  },
  {
   "cell_type": "code",
   "execution_count": 18,
   "id": "6c1a2a35",
   "metadata": {},
   "outputs": [
    {
     "data": {
      "text/plain": [
       "0    10.65%\n",
       "1    15.27%\n",
       "2    15.96%\n",
       "3    13.49%\n",
       "4    12.69%\n",
       "Name: int_rate, dtype: object"
      ]
     },
     "execution_count": 18,
     "metadata": {},
     "output_type": "execute_result"
    }
   ],
   "source": [
    "#from the above, we can observe that \"int_rate\"column is object type. Just have a look into the column\n",
    "New_Loan_df.int_rate.head()"
   ]
  },
  {
   "cell_type": "code",
   "execution_count": 19,
   "id": "6ae73ed2",
   "metadata": {},
   "outputs": [
    {
     "name": "stdout",
     "output_type": "stream",
     "text": [
      "<class 'pandas.core.series.Series'>\n",
      "RangeIndex: 39717 entries, 0 to 39716\n",
      "Series name: int_rate\n",
      "Non-Null Count  Dtype  \n",
      "--------------  -----  \n",
      "39717 non-null  float64\n",
      "dtypes: float64(1)\n",
      "memory usage: 310.4 KB\n"
     ]
    }
   ],
   "source": [
    "#we can observe that the datatype here for the above column is object, we need to remove the % sign and covert it to float so that if required we can use it for calculations\n",
    "New_Loan_df['int_rate'] = New_Loan_df['int_rate'].str.rstrip('%')\n",
    "New_Loan_df['int_rate'] = New_Loan_df['int_rate'].astype(float)\n",
    "New_Loan_df.int_rate.info()"
   ]
  },
  {
   "cell_type": "code",
   "execution_count": 20,
   "id": "9d48dbe7",
   "metadata": {},
   "outputs": [
    {
     "data": {
      "text/plain": [
       "0    10.65\n",
       "1    15.27\n",
       "2    15.96\n",
       "3    13.49\n",
       "4    12.69\n",
       "Name: int_rate, dtype: float64"
      ]
     },
     "execution_count": 20,
     "metadata": {},
     "output_type": "execute_result"
    }
   ],
   "source": [
    "New_Loan_df.int_rate.head()"
   ]
  },
  {
   "cell_type": "code",
   "execution_count": 21,
   "id": "4171136a",
   "metadata": {},
   "outputs": [
    {
     "data": {
      "text/plain": [
       "0     Fully Paid\n",
       "1    Charged Off\n",
       "2     Fully Paid\n",
       "3     Fully Paid\n",
       "4        Current\n",
       "Name: loan_status, dtype: object"
      ]
     },
     "execution_count": 21,
     "metadata": {},
     "output_type": "execute_result"
    }
   ],
   "source": [
    "# column \"loan_status\" is very important column as it will tell which are the customers the customers who are \"Charged Off\"... lets dig more into the column\n",
    "New_Loan_df.loan_status.head()"
   ]
  },
  {
   "cell_type": "code",
   "execution_count": 27,
   "id": "031527c3",
   "metadata": {},
   "outputs": [],
   "source": [
    "# As the one marked 'Current' are neither fully paid nor the defaulted so we can git rid of those rows marked 'current'\n",
    "# get names of indexes for which column \"loan_status\" has marked 'Current'\n",
    "index_names_current = New_Loan_df[ New_Loan_df['loan_status'] == 'Current' ].index"
   ]
  },
  {
   "cell_type": "code",
   "execution_count": 28,
   "id": "0038b6df",
   "metadata": {},
   "outputs": [],
   "source": [
    "# drop the above row indexes(index_names_current) from dataFrame\n",
    "New_Loan_df.drop(index_names_current, inplace = True)"
   ]
  },
  {
   "cell_type": "code",
   "execution_count": 29,
   "id": "15f073c9",
   "metadata": {},
   "outputs": [
    {
     "data": {
      "text/plain": [
       "0     Fully Paid\n",
       "1    Charged Off\n",
       "2     Fully Paid\n",
       "3     Fully Paid\n",
       "5     Fully Paid\n",
       "Name: loan_status, dtype: object"
      ]
     },
     "execution_count": 29,
     "metadata": {},
     "output_type": "execute_result"
    }
   ],
   "source": [
    "# Revalidate the column again\n",
    "New_Loan_df.loan_status.head()"
   ]
  },
  {
   "cell_type": "code",
   "execution_count": 31,
   "id": "89775613",
   "metadata": {},
   "outputs": [],
   "source": [
    "#Now create a new categorical column \"loan_status_category\" w.r.t the \"loan_status\" column with value 1 for Charged Off and 0 for Fully Paid\n",
    "New_Loan_df[\"loan_status_category\"] = New_Loan_df.loan_status.apply(lambda x : 0 if x == \"Fully Paid\" else 1)"
   ]
  },
  {
   "cell_type": "code",
   "execution_count": 32,
   "id": "ec2292c9",
   "metadata": {},
   "outputs": [
    {
     "data": {
      "text/plain": [
       "0    0\n",
       "1    1\n",
       "2    0\n",
       "3    0\n",
       "5    0\n",
       "Name: loan_status_category, dtype: int64"
      ]
     },
     "execution_count": 32,
     "metadata": {},
     "output_type": "execute_result"
    }
   ],
   "source": [
    "New_Loan_df[\"loan_status_category\"].head()"
   ]
  },
  {
   "cell_type": "code",
   "execution_count": 33,
   "id": "12737aaf",
   "metadata": {},
   "outputs": [
    {
     "data": {
      "text/plain": [
       "0    85.413588\n",
       "1    14.586412\n",
       "Name: loan_status_category, dtype: float64"
      ]
     },
     "execution_count": 33,
     "metadata": {},
     "output_type": "execute_result"
    }
   ],
   "source": [
    "# we can further look into the % distribution of 1 and 0\n",
    "(New_Loan_df.loan_status_category.value_counts()*100)/len(New_Loan_df)"
   ]
  },
  {
   "cell_type": "code",
   "execution_count": 34,
   "id": "4398def5",
   "metadata": {},
   "outputs": [
    {
     "data": {
      "image/png": "[encoded data removed]",
      "text/plain": [
       "<Figure size 432x288 with 1 Axes>"
      ]
     },
     "metadata": {
      "needs_background": "light"
     },
     "output_type": "display_data"
    }
   ],
   "source": [
    "#we can visvalize the above in countplot\n",
    "import seaborn as sns\n",
    "import matplotlib.pyplot as plt\n",
    "\n",
    "sns.countplot(x ='loan_status_category', data = New_Loan_df)\n",
    " \n",
    "# Show the plot\n",
    "plt.show()"
   ]
  },
  {
   "cell_type": "code",
   "execution_count": 35,
   "id": "3a411f5d",
   "metadata": {},
   "outputs": [
    {
     "name": "stdout",
     "output_type": "stream",
     "text": [
      "<class 'pandas.core.frame.DataFrame'>\n",
      "Int64Index: 38577 entries, 0 to 39716\n",
      "Data columns (total 32 columns):\n",
      " #   Column                      Non-Null Count  Dtype  \n",
      "---  ------                      --------------  -----  \n",
      " 0   id                          38577 non-null  int64  \n",
      " 1   member_id                   38577 non-null  int64  \n",
      " 2   loan_amnt                   38577 non-null  int64  \n",
      " 3   funded_amnt                 38577 non-null  int64  \n",
      " 4   funded_amnt_inv             38577 non-null  float64\n",
      " 5   term                        38577 non-null  object \n",
      " 6   int_rate                    38577 non-null  float64\n",
      " 7   installment                 38577 non-null  float64\n",
      " 8   grade                       38577 non-null  object \n",
      " 9   sub_grade                   38577 non-null  object \n",
      " 10  emp_length                  37544 non-null  object \n",
      " 11  home_ownership              38577 non-null  object \n",
      " 12  annual_inc                  38577 non-null  float64\n",
      " 13  verification_status         38577 non-null  object \n",
      " 14  issue_d                     38577 non-null  object \n",
      " 15  loan_status                 38577 non-null  object \n",
      " 16  pymnt_plan                  38577 non-null  object \n",
      " 17  url                         38577 non-null  object \n",
      " 18  purpose                     38577 non-null  object \n",
      " 19  title                       38566 non-null  object \n",
      " 20  dti                         38577 non-null  float64\n",
      " 21  mths_since_last_delinq      13672 non-null  float64\n",
      " 22  revol_util                  38527 non-null  object \n",
      " 23  initial_list_status         38577 non-null  object \n",
      " 24  collections_12_mths_ex_med  38521 non-null  float64\n",
      " 25  policy_code                 38577 non-null  int64  \n",
      " 26  acc_now_delinq              38577 non-null  int64  \n",
      " 27  chargeoff_within_12_mths    38521 non-null  float64\n",
      " 28  delinq_amnt                 38577 non-null  int64  \n",
      " 29  pub_rec_bankruptcies        37880 non-null  float64\n",
      " 30  tax_liens                   38538 non-null  float64\n",
      " 31  loan_status_category        38577 non-null  int64  \n",
      "dtypes: float64(10), int64(8), object(14)\n",
      "memory usage: 9.7+ MB\n"
     ]
    }
   ],
   "source": [
    "#Now we need to analyse that who are the customers getting more charged off\n",
    "#Before this look for the datafram once again if we can remove some more columns\n",
    "New_Loan_df.info()"
   ]
  },
  {
   "cell_type": "code",
   "execution_count": 36,
   "id": "36746c8f",
   "metadata": {},
   "outputs": [
    {
     "name": "stdout",
     "output_type": "stream",
     "text": [
      "<class 'pandas.core.frame.DataFrame'>\n",
      "Int64Index: 38577 entries, 0 to 39716\n",
      "Data columns (total 29 columns):\n",
      " #   Column                      Non-Null Count  Dtype  \n",
      "---  ------                      --------------  -----  \n",
      " 0   id                          38577 non-null  int64  \n",
      " 1   loan_amnt                   38577 non-null  int64  \n",
      " 2   funded_amnt                 38577 non-null  int64  \n",
      " 3   funded_amnt_inv             38577 non-null  float64\n",
      " 4   term                        38577 non-null  object \n",
      " 5   int_rate                    38577 non-null  float64\n",
      " 6   installment                 38577 non-null  float64\n",
      " 7   grade                       38577 non-null  object \n",
      " 8   sub_grade                   38577 non-null  object \n",
      " 9   emp_length                  37544 non-null  object \n",
      " 10  home_ownership              38577 non-null  object \n",
      " 11  annual_inc                  38577 non-null  float64\n",
      " 12  verification_status         38577 non-null  object \n",
      " 13  issue_d                     38577 non-null  object \n",
      " 14  loan_status                 38577 non-null  object \n",
      " 15  pymnt_plan                  38577 non-null  object \n",
      " 16  purpose                     38577 non-null  object \n",
      " 17  title                       38566 non-null  object \n",
      " 18  dti                         38577 non-null  float64\n",
      " 19  revol_util                  38527 non-null  object \n",
      " 20  initial_list_status         38577 non-null  object \n",
      " 21  collections_12_mths_ex_med  38521 non-null  float64\n",
      " 22  policy_code                 38577 non-null  int64  \n",
      " 23  acc_now_delinq              38577 non-null  int64  \n",
      " 24  chargeoff_within_12_mths    38521 non-null  float64\n",
      " 25  delinq_amnt                 38577 non-null  int64  \n",
      " 26  pub_rec_bankruptcies        37880 non-null  float64\n",
      " 27  tax_liens                   38538 non-null  float64\n",
      " 28  loan_status_category        38577 non-null  int64  \n",
      "dtypes: float64(9), int64(7), object(13)\n",
      "memory usage: 8.8+ MB\n"
     ]
    }
   ],
   "source": [
    "# Delete few more columns wich are not required(relevant) for our analysis\n",
    "New_Loan_df.drop([\"member_id\",\"url\",\"mths_since_last_delinq\"],axis=1,inplace=True)\n",
    "New_Loan_df.info()"
   ]
  },
  {
   "cell_type": "code",
   "execution_count": 41,
   "id": "a64aca07",
   "metadata": {},
   "outputs": [
    {
     "data": {
      "text/plain": [
       "0      36 months\n",
       "1      60 months\n",
       "2      36 months\n",
       "3      36 months\n",
       "5      36 months\n",
       "6      60 months\n",
       "7      36 months\n",
       "8      60 months\n",
       "9      60 months\n",
       "10     60 months\n",
       "Name: term, dtype: object"
      ]
     },
     "execution_count": 41,
     "metadata": {},
     "output_type": "execute_result"
    }
   ],
   "source": [
    "# Now we have to figure out the relationship between \"loan_status_category\" column and the other columns\n",
    "# So that we can identify that what are the various factors which are tending the customer for Charged Off\n",
    "# Start from the \"term\" column\n",
    "New_Loan_df.term.head(10)"
   ]
  },
  {
   "cell_type": "code",
   "execution_count": 44,
   "id": "934297d7",
   "metadata": {},
   "outputs": [
    {
     "data": {
      "image/png": "[encoded data removed]",
      "text/plain": [
       "<Figure size 432x288 with 1 Axes>"
      ]
     },
     "metadata": {
      "needs_background": "light"
     },
     "output_type": "display_data"
    }
   ],
   "source": [
    "# loan_status_category = 0 means Fully paid and loan_status_category = 1 means Charged Off\n",
    "chart1 = sns.countplot(x=\"term\",data=New_Loan_df,hue='loan_status_category')"
   ]
  },
  {
   "cell_type": "code",
   "execution_count": 45,
   "id": "0551c11e",
   "metadata": {},
   "outputs": [
    {
     "data": {
      "text/plain": [
       "0     10.65\n",
       "1     15.27\n",
       "2     15.96\n",
       "3     13.49\n",
       "5      7.90\n",
       "6     15.96\n",
       "7     18.64\n",
       "8     21.28\n",
       "9     12.69\n",
       "10    14.65\n",
       "Name: int_rate, dtype: float64"
      ]
     },
     "execution_count": 45,
     "metadata": {},
     "output_type": "execute_result"
    }
   ],
   "source": [
    "#From the above chart its clear that customers who has taken loan for longer period have more defaulters\n",
    "# Now we will look for other column \"int_rate\" w.r.t loan_status_category\n",
    "New_Loan_df.int_rate.head(10)"
   ]
  },
  {
   "cell_type": "code",
   "execution_count": 47,
   "id": "df0f2f90",
   "metadata": {},
   "outputs": [
    {
     "data": {
      "text/plain": [
       "count    38577.000000\n",
       "mean        11.932219\n",
       "std          3.691327\n",
       "min          5.420000\n",
       "25%          8.940000\n",
       "50%         11.710000\n",
       "75%         14.380000\n",
       "max         24.400000\n",
       "Name: int_rate, dtype: float64"
      ]
     },
     "execution_count": 47,
     "metadata": {},
     "output_type": "execute_result"
    }
   ],
   "source": [
    "# As we can see from the above data that the interest rate is having scattered values we can create bins to hold the values for this column\n",
    "New_Loan_df.int_rate.describe()"
   ]
  },
  {
   "cell_type": "code",
   "execution_count": 51,
   "id": "a567ad3b",
   "metadata": {},
   "outputs": [
    {
     "data": {
      "text/plain": [
       "0          10-15\n",
       "1          15-20\n",
       "2          15-20\n",
       "3          10-15\n",
       "5           0-10\n",
       "6          15-20\n",
       "7          15-20\n",
       "8     20 or more\n",
       "9          10-15\n",
       "10         10-15\n",
       "11         10-15\n",
       "12         10-15\n",
       "13          0-10\n",
       "14         10-15\n",
       "15         15-20\n",
       "16         15-20\n",
       "17          0-10\n",
       "18         10-15\n",
       "19          0-10\n",
       "20         15-20\n",
       "Name: int_rate_bin, dtype: category\n",
       "Categories (4, object): ['0-10' < '10-15' < '15-20' < '20 or more']"
      ]
     },
     "execution_count": 51,
     "metadata": {},
     "output_type": "execute_result"
    }
   ],
   "source": [
    "New_Loan_df['int_rate_bin'] = pd.cut(New_Loan_df['int_rate'], [0, 10, 15, 20, 25], labels=['0-10', '10-15', '15-20', '20 or more'])\n",
    "New_Loan_df['int_rate_bin'].head(20)"
   ]
  },
  {
   "cell_type": "code",
   "execution_count": 52,
   "id": "6210081d",
   "metadata": {},
   "outputs": [
    {
     "data": {
      "image/png": "[encoded data removed]",
      "text/plain": [
       "<Figure size 432x288 with 1 Axes>"
      ]
     },
     "metadata": {
      "needs_background": "light"
     },
     "output_type": "display_data"
    }
   ],
   "source": [
    "chart2 = sns.countplot(x=\"int_rate_bin\",data=New_Loan_df,hue='loan_status_category')"
   ]
  },
  {
   "cell_type": "markdown",
   "id": "6327d5a8",
   "metadata": {},
   "source": [
    "By the above plot we can say that the customers who have higher intrest(more then 15%) rate are likely to default \n",
    "and the customer with lesser intrest rate are less likely to default"
   ]
  },
  {
   "cell_type": "code",
   "execution_count": 54,
   "id": "c2c95fa9",
   "metadata": {},
   "outputs": [
    {
     "data": {
      "text/plain": [
       "0    B\n",
       "1    C\n",
       "2    C\n",
       "3    C\n",
       "5    A\n",
       "Name: grade, dtype: object"
      ]
     },
     "execution_count": 54,
     "metadata": {},
     "output_type": "execute_result"
    }
   ],
   "source": [
    "#Now we will look into the column \"grade\" w.r.t loan_status_category\n",
    "New_Loan_df.grade.head()"
   ]
  },
  {
   "cell_type": "code",
   "execution_count": 55,
   "id": "04bfb971",
   "metadata": {},
   "outputs": [
    {
     "data": {
      "image/png": "[encoded data removed]",
      "text/plain": [
       "<Figure size 432x288 with 1 Axes>"
      ]
     },
     "metadata": {
      "needs_background": "light"
     },
     "output_type": "display_data"
    }
   ],
   "source": [
    "chart3 = sns.countplot(x=\"grade\",data=New_Loan_df,hue='loan_status_category')"
   ]
  },
  {
   "cell_type": "markdown",
   "id": "81c205b9",
   "metadata": {},
   "source": [
    "By looking into this plot we can say that the Customer with the grade A are less likely to default but when the grade is increasing the defaulter percentage is also increasing"
   ]
  },
  {
   "cell_type": "code",
   "execution_count": 59,
   "id": "b2207794",
   "metadata": {},
   "outputs": [
    {
     "data": {
      "text/plain": [
       "0    RENT\n",
       "1    RENT\n",
       "2    RENT\n",
       "3    RENT\n",
       "5    RENT\n",
       "Name: home_ownership, dtype: object"
      ]
     },
     "execution_count": 59,
     "metadata": {},
     "output_type": "execute_result"
    }
   ],
   "source": [
    "#Now we will look into the column \"home_ownership\" w.r.t loan_status_category\n",
    "New_Loan_df.home_ownership.head()"
   ]
  },
  {
   "cell_type": "code",
   "execution_count": 60,
   "id": "da5becb7",
   "metadata": {},
   "outputs": [
    {
     "data": {
      "image/png": "[encoded data removed]",
      "text/plain": [
       "<Figure size 432x288 with 1 Axes>"
      ]
     },
     "metadata": {
      "needs_background": "light"
     },
     "output_type": "display_data"
    }
   ],
   "source": [
    "chart4 = sns.countplot(x=\"home_ownership\",data=New_Loan_df,hue='loan_status_category')"
   ]
  },
  {
   "cell_type": "markdown",
   "id": "17b7f96a",
   "metadata": {},
   "source": [
    "With this plot we can say that the customer with own home are applying less for loan, in other words the customers with Rented home and Mortagage are more in numbers. "
   ]
  },
  {
   "cell_type": "code",
   "execution_count": 61,
   "id": "9d502717",
   "metadata": {},
   "outputs": [
    {
     "data": {
      "text/plain": [
       "0     5000\n",
       "1     2500\n",
       "2     2400\n",
       "3    10000\n",
       "5     5000\n",
       "Name: loan_amnt, dtype: int64"
      ]
     },
     "execution_count": 61,
     "metadata": {},
     "output_type": "execute_result"
    }
   ],
   "source": [
    "#Now we will look into the column \"loan_amnt\" w.r.t loan_status_category\n",
    "New_Loan_df.loan_amnt.head()"
   ]
  },
  {
   "cell_type": "code",
   "execution_count": 63,
   "id": "2c3740d4",
   "metadata": {},
   "outputs": [
    {
     "data": {
      "text/plain": [
       "count    38577.000000\n",
       "mean     11047.025430\n",
       "std       7348.441646\n",
       "min        500.000000\n",
       "25%       5300.000000\n",
       "50%       9600.000000\n",
       "75%      15000.000000\n",
       "max      35000.000000\n",
       "Name: loan_amnt, dtype: float64"
      ]
     },
     "execution_count": 63,
     "metadata": {},
     "output_type": "execute_result"
    }
   ],
   "source": [
    "#The loan amount has the scattered values so we have to bind them in a bin and then plot it \n",
    "New_Loan_df.loan_amnt.describe()"
   ]
  },
  {
   "cell_type": "code",
   "execution_count": 67,
   "id": "e78d9cb7",
   "metadata": {},
   "outputs": [
    {
     "data": {
      "text/plain": [
       "0     500-5K\n",
       "1     500-5K\n",
       "2     500-5K\n",
       "3      5-10K\n",
       "5     500-5K\n",
       "6      5-10K\n",
       "7     500-5K\n",
       "8      5-10K\n",
       "9      5-10K\n",
       "10     5-10K\n",
       "Name: loan_amnt_bin, dtype: category\n",
       "Categories (7, object): ['500-5K' < '5-10K' < '10-15K' < '15-20K' < '20-25K' < '25-30K' < '30K or more']"
      ]
     },
     "execution_count": 67,
     "metadata": {},
     "output_type": "execute_result"
    }
   ],
   "source": [
    "New_Loan_df['loan_amnt_bin'] = pd.cut(New_Loan_df['loan_amnt'], [500, 5000, 10000, 15000, 20000, 25000, 30000, 35000], labels=['500-5K', '5-10K', '10-15K', '15-20K', '20-25K', '25-30K', '30K or more'])\n",
    "New_Loan_df['loan_amnt_bin'].head(10)"
   ]
  },
  {
   "cell_type": "code",
   "execution_count": 68,
   "id": "f9a78ea5",
   "metadata": {},
   "outputs": [
    {
     "data": {
      "image/png": "[encoded data removed]",
      "text/plain": [
       "<Figure size 432x288 with 1 Axes>"
      ]
     },
     "metadata": {
      "needs_background": "light"
     },
     "output_type": "display_data"
    }
   ],
   "source": [
    "chart5 = sns.countplot(x=\"loan_amnt_bin\",data=New_Loan_df,hue='loan_status_category')"
   ]
  },
  {
   "cell_type": "markdown",
   "id": "1cca65b0",
   "metadata": {},
   "source": [
    "By looking into this plot we can say that the customers has taken more lone for amount 500 to 20000 and if the loan amount is high then there are more chances of defaulters"
   ]
  },
  {
   "cell_type": "code",
   "execution_count": 69,
   "id": "0875be22",
   "metadata": {},
   "outputs": [
    {
     "name": "stdout",
     "output_type": "stream",
     "text": [
      "<class 'pandas.core.frame.DataFrame'>\n",
      "Int64Index: 38577 entries, 0 to 39716\n",
      "Data columns (total 31 columns):\n",
      " #   Column                      Non-Null Count  Dtype   \n",
      "---  ------                      --------------  -----   \n",
      " 0   id                          38577 non-null  int64   \n",
      " 1   loan_amnt                   38577 non-null  int64   \n",
      " 2   funded_amnt                 38577 non-null  int64   \n",
      " 3   funded_amnt_inv             38577 non-null  float64 \n",
      " 4   term                        38577 non-null  object  \n",
      " 5   int_rate                    38577 non-null  float64 \n",
      " 6   installment                 38577 non-null  float64 \n",
      " 7   grade                       38577 non-null  object  \n",
      " 8   sub_grade                   38577 non-null  object  \n",
      " 9   emp_length                  37544 non-null  object  \n",
      " 10  home_ownership              38577 non-null  object  \n",
      " 11  annual_inc                  38577 non-null  float64 \n",
      " 12  verification_status         38577 non-null  object  \n",
      " 13  issue_d                     38577 non-null  object  \n",
      " 14  loan_status                 38577 non-null  object  \n",
      " 15  pymnt_plan                  38577 non-null  object  \n",
      " 16  purpose                     38577 non-null  object  \n",
      " 17  title                       38566 non-null  object  \n",
      " 18  dti                         38577 non-null  float64 \n",
      " 19  revol_util                  38527 non-null  object  \n",
      " 20  initial_list_status         38577 non-null  object  \n",
      " 21  collections_12_mths_ex_med  38521 non-null  float64 \n",
      " 22  policy_code                 38577 non-null  int64   \n",
      " 23  acc_now_delinq              38577 non-null  int64   \n",
      " 24  chargeoff_within_12_mths    38521 non-null  float64 \n",
      " 25  delinq_amnt                 38577 non-null  int64   \n",
      " 26  pub_rec_bankruptcies        37880 non-null  float64 \n",
      " 27  tax_liens                   38538 non-null  float64 \n",
      " 28  loan_status_category        38577 non-null  int64   \n",
      " 29  int_rate_bin                38577 non-null  category\n",
      " 30  loan_amnt_bin               38572 non-null  category\n",
      "dtypes: category(2), float64(9), int64(7), object(13)\n",
      "memory usage: 8.9+ MB\n"
     ]
    }
   ],
   "source": [
    "New_Loan_df.info()"
   ]
  },
  {
   "cell_type": "code",
   "execution_count": 71,
   "id": "7eba7ef4",
   "metadata": {},
   "outputs": [
    {
     "name": "stdout",
     "output_type": "stream",
     "text": [
      "<class 'pandas.core.frame.DataFrame'>\n",
      "Int64Index: 38577 entries, 0 to 39716\n",
      "Data columns (total 28 columns):\n",
      " #   Column                      Non-Null Count  Dtype   \n",
      "---  ------                      --------------  -----   \n",
      " 0   id                          38577 non-null  int64   \n",
      " 1   loan_amnt                   38577 non-null  int64   \n",
      " 2   funded_amnt                 38577 non-null  int64   \n",
      " 3   funded_amnt_inv             38577 non-null  float64 \n",
      " 4   term                        38577 non-null  object  \n",
      " 5   int_rate                    38577 non-null  float64 \n",
      " 6   installment                 38577 non-null  float64 \n",
      " 7   grade                       38577 non-null  object  \n",
      " 8   sub_grade                   38577 non-null  object  \n",
      " 9   emp_length                  37544 non-null  object  \n",
      " 10  home_ownership              38577 non-null  object  \n",
      " 11  annual_inc                  38577 non-null  float64 \n",
      " 12  verification_status         38577 non-null  object  \n",
      " 13  issue_d                     38577 non-null  object  \n",
      " 14  loan_status                 38577 non-null  object  \n",
      " 15  purpose                     38577 non-null  object  \n",
      " 16  title                       38566 non-null  object  \n",
      " 17  dti                         38577 non-null  float64 \n",
      " 18  revol_util                  38527 non-null  object  \n",
      " 19  collections_12_mths_ex_med  38521 non-null  float64 \n",
      " 20  acc_now_delinq              38577 non-null  int64   \n",
      " 21  chargeoff_within_12_mths    38521 non-null  float64 \n",
      " 22  delinq_amnt                 38577 non-null  int64   \n",
      " 23  pub_rec_bankruptcies        37880 non-null  float64 \n",
      " 24  tax_liens                   38538 non-null  float64 \n",
      " 25  loan_status_category        38577 non-null  int64   \n",
      " 26  int_rate_bin                38577 non-null  category\n",
      " 27  loan_amnt_bin               38572 non-null  category\n",
      "dtypes: category(2), float64(9), int64(6), object(11)\n",
      "memory usage: 8.0+ MB\n"
     ]
    }
   ],
   "source": [
    "#Few more columns are there which we can remove\n",
    "New_Loan_df.drop([\"policy_code\",\"initial_list_status\",\"pymnt_plan\"],axis=1,inplace=True)\n",
    "New_Loan_df.info()"
   ]
  },
  {
   "cell_type": "code",
   "execution_count": 72,
   "id": "cf678320",
   "metadata": {},
   "outputs": [
    {
     "data": {
      "text/plain": [
       "0    10+ years\n",
       "1     < 1 year\n",
       "2    10+ years\n",
       "3    10+ years\n",
       "5      3 years\n",
       "Name: emp_length, dtype: object"
      ]
     },
     "execution_count": 72,
     "metadata": {},
     "output_type": "execute_result"
    }
   ],
   "source": [
    "#Now we will look for the column \"emp_length\" w.r.t loan_status_category\n",
    "New_Loan_df.emp_length.head()"
   ]
  },
  {
   "cell_type": "code",
   "execution_count": 75,
   "id": "99fa4c13",
   "metadata": {},
   "outputs": [
    {
     "data": {
      "image/png": "[encoded data removed]",
      "text/plain": [
       "<Figure size 864x432 with 1 Axes>"
      ]
     },
     "metadata": {
      "needs_background": "light"
     },
     "output_type": "display_data"
    }
   ],
   "source": [
    "plt.figure(figsize=(12,6))\n",
    "chart6 = sns.countplot(x=\"emp_length\",data=New_Loan_df,hue='loan_status_category')\n",
    "plt.show()"
   ]
  },
  {
   "cell_type": "markdown",
   "id": "6cf94316",
   "metadata": {},
   "source": [
    "By looking into the plot we can say that the customers with lesser number of experience or no experience have more chances for default"
   ]
  },
  {
   "cell_type": "code",
   "execution_count": 88,
   "id": "9ddf7594",
   "metadata": {},
   "outputs": [
    {
     "data": {
      "image/png": "[encoded data removed]",
      "text/plain": [
       "<Figure size 1800x432 with 1 Axes>"
      ]
     },
     "metadata": {
      "needs_background": "light"
     },
     "output_type": "display_data"
    }
   ],
   "source": [
    "#Now we will look for the column \"purpose\" w.r.t loan_status_category\n",
    "plt.figure(figsize=(25,6))\n",
    "chart7 = sns.countplot(x=\"purpose\",data=New_Loan_df,hue='loan_status_category')"
   ]
  },
  {
   "cell_type": "markdown",
   "id": "8737c661",
   "metadata": {},
   "source": [
    "From this plot we can say that the customer took loan maximum for debt_consolidation and for the same the refault rate is also high, means the customer taking loan for debt_consolidation are more likely to default"
   ]
  },
  {
   "cell_type": "code",
   "execution_count": null,
   "id": "c10b48bd",
   "metadata": {},
   "outputs": [],
   "source": []
  },
  {
   "cell_type": "code",
   "execution_count": null,
   "id": "45be45f7",
   "metadata": {},
   "outputs": [],
   "source": []
  },
  {
   "cell_type": "code",
   "execution_count": null,
   "id": "95f3a5e1",
   "metadata": {},
   "outputs": [],
   "source": []
  }
 ],
 "metadata": {
  "kernelspec": {
   "display_name": "Python 3 (ipykernel)",
   "language": "python",
   "name": "python3"
  },
  "language_info": {
   "codemirror_mode": {
    "name": "ipython",
    "version": 3
   },
   "file_extension": ".py",
   "mimetype": "text/x-python",
   "name": "python",
   "nbconvert_exporter": "python",
   "pygments_lexer": "ipython3",
   "version": "3.9.12"
  }
 },
 "nbformat": 4,
 "nbformat_minor": 5
}
